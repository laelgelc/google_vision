{
 "cells": [
  {
   "cell_type": "markdown",
   "id": "810d9f10-ec19-4b09-8f90-e983e460b319",
   "metadata": {
    "jp-MarkdownHeadingCollapsed": true,
    "tags": []
   },
   "source": [
    "<center>\n",
    "<img src=\"http://corpuslg.org/lael_english/wp-content/uploads/2020/04/lael_50_years_narrow_white.png.400px_300dpi.png\" width=\"300\" alt=\"LAEL 50 years logo\">\n",
    "<h3>APPLIED LINGUISTICS GRADUATE PROGRAMME (LAEL)</h3>\n",
    "</center>\n",
    "<hr>"
   ]
  },
  {
   "cell_type": "markdown",
   "id": "888c2c96-2fc3-4a1a-995b-c388036a2a15",
   "metadata": {},
   "source": [
    "# Image tagging with Google Cloud Vision task"
   ]
  },
  {
   "cell_type": "markdown",
   "id": "7a9c2af7-9fc1-4f51-a4f5-2ed915b93039",
   "metadata": {},
   "source": [
    "## Prerequisites\n",
    "This procedure assumes the creation of a new environment consisting of Python over Ubuntu over Windows"
   ]
  },
  {
   "cell_type": "markdown",
   "id": "e2e54e7b-465e-4af5-bc94-add65362b957",
   "metadata": {},
   "source": [
    "### Installing Ubuntu over Microsoft Windows"
   ]
  },
  {
   "cell_type": "markdown",
   "id": "032df389-f1dd-406f-83f7-8ee1668ece58",
   "metadata": {
    "tags": []
   },
   "source": [
    "The Windows Subsystem for Linux (WSL) lets developers install a Linux distribution and use Linux applications, utilities, and Bash command-line tools directly on Windows, unmodified, without the overhead of a traditional virtual machine or dualboot setup.\n",
    "- Follow the procedures on [Install Linux on Windows with WSL](https://learn.microsoft.com/en-us/windows/wsl/install) and on [Set up a WSL development environment](https://learn.microsoft.com/en-us/windows/wsl/setup/environment)"
   ]
  },
  {
   "cell_type": "markdown",
   "id": "4def15c9-4fb6-41e2-97c3-1065e4e9865b",
   "metadata": {},
   "source": [
    "### Updating and upgrading Linux"
   ]
  },
  {
   "cell_type": "code",
   "execution_count": null,
   "id": "3c71556f-33ee-4a7b-bc8a-8c92dbbb77cd",
   "metadata": {},
   "outputs": [],
   "source": [
    "eyamrog@RogLet-ASUS:~$ sudo apt update\n",
    "[sudo] password for eyamrog:<omitted>\n",
    "eyamrog@RogLet-ASUS:~$ sudo apt upgrade -y"
   ]
  },
  {
   "cell_type": "markdown",
   "id": "805e0ea0-9b4d-4c17-9f65-fe05235a6f38",
   "metadata": {},
   "source": [
    "### Installing the required Linux commands"
   ]
  },
  {
   "cell_type": "markdown",
   "id": "b950e6a7-15cb-40fb-b0fb-85d4806c8f89",
   "metadata": {},
   "source": [
    "#### 'curl' command"
   ]
  },
  {
   "cell_type": "code",
   "execution_count": null,
   "id": "95ffaca8-ef6b-4643-a4cc-475c91987e1d",
   "metadata": {},
   "outputs": [],
   "source": [
    "eyamrog@RogLet-ASUS:~$ curl\n",
    "Command 'curl' not found, but can be installed with:\n",
    "<omitted>\n",
    "eyamrog@RogLet-ASUS:~$ sudo apt install curl\n",
    "[sudo] password for eyamrog:<omitted>"
   ]
  },
  {
   "cell_type": "markdown",
   "id": "6a820131-f748-4df0-baee-ec5da8efba6d",
   "metadata": {},
   "source": [
    "#### 'unzip' and 'zip' commands"
   ]
  },
  {
   "cell_type": "code",
   "execution_count": null,
   "id": "b25ae0cf-2bee-4fad-b74f-c9575cab738b",
   "metadata": {},
   "outputs": [],
   "source": [
    "eyamrog@RogLet-ASUS:~$ sudo apt install unzip\n",
    "[sudo] password for eyamrog:\n",
    "Reading package lists... Done\n",
    "Building dependency tree... Done\n",
    "Reading state information... Done\n",
    "Suggested packages:\n",
    "  zip\n",
    "The following NEW packages will be installed:\n",
    "  unzip\n",
    "Preparing to unpack .../unzip_6.0-26ubuntu3.1_amd64.deb ...\n",
    "Unpacking unzip (6.0-26ubuntu3.1) ...\n",
    "Setting up unzip (6.0-26ubuntu3.1) ...\n",
    "Processing triggers for man-db (2.10.2-1) ...\n",
    "eyamrog@RogLet-ASUS:~$ sudo apt install zip\n",
    "Reading package lists... Done\n",
    "Building dependency tree... Done\n",
    "Reading state information... Done\n",
    "The following NEW packages will be installed:\n",
    "  zip\n",
    "0 upgraded, 1 newly installed, 0 to remove and 0 not upgraded.\n",
    "Need to get 176 kB of archives.\n",
    "After this operation, 544 kB of additional disk space will be used.\n",
    "Get:1 http://archive.ubuntu.com/ubuntu jammy/main amd64 zip amd64 3.0-12build2 [176 kB]\n",
    "Fetched 176 kB in 11s (15.8 kB/s)\n",
    "Selecting previously unselected package zip.\n",
    "(Reading database ... 31629 files and directories currently installed.)\n",
    "Preparing to unpack .../zip_3.0-12build2_amd64.deb ...\n",
    "Unpacking zip (3.0-12build2) ...\n",
    "Setting up zip (3.0-12build2) ...\n",
    "Processing triggers for man-db (2.10.2-1) ...\n",
    "eyamrog@RogLet-ASUS:~$"
   ]
  },
  {
   "cell_type": "markdown",
   "id": "733304d8-86f0-4ffc-82fb-9b7e7bc6fc8d",
   "metadata": {},
   "source": [
    "### Setting up a Python virtual environment"
   ]
  },
  {
   "cell_type": "markdown",
   "id": "588975a3-2afe-458a-bc93-eea80b9c15fe",
   "metadata": {},
   "source": [
    "- Follow the procedures on [How To Install Python 3 and Set Up a Programming Environment on Ubuntu 20.04 [Quickstart]](https://www.digitalocean.com/community/tutorials/how-to-install-python-3-and-set-up-a-programming-environment-on-ubuntu-20-04-quickstart), summarised as follows:"
   ]
  },
  {
   "cell_type": "code",
   "execution_count": null,
   "id": "5d02f691-e41b-4978-a6f2-6e2ec9397108",
   "metadata": {},
   "outputs": [],
   "source": [
    "eyamrog@RogLet-ASUS:~$ sudo apt update\n",
    "eyamrog@RogLet-ASUS:~$ sudo apt -y upgrade\n",
    "eyamrog@RogLet-ASUS:~$ python3 -V\n",
    "eyamrog@RogLet-ASUS:~$ sudo apt install -y python3-pip\n",
    "eyamrog@RogLet-ASUS:~$ sudo apt install build-essential libssl-dev libffi-dev python3-dev\n",
    "eyamrog@RogLet-ASUS:~$ sudo apt install -y python3-venv\n",
    "eyamrog@RogLet-ASUS:~$"
   ]
  },
  {
   "cell_type": "markdown",
   "id": "41c31046-a564-48f9-8c6a-287256f3c140",
   "metadata": {},
   "source": [
    "Python benefits from a rich set of modules that streamlines the development of solutions. Depending on the way the modules are packaged, their installation can create software dependencies among them that can lead to inconsistencies if not carefully managed. Thus, it is highly recommended that distinct development projects are hosted in distinct virtual environments in order to prevent dependencies on one virtual environment from affecting dependencies on another virtual environment. Virtual environments can be created with [venv](https://docs.python.org/3/library/venv.html). The following line describes the creation of the virtual environment 'my_env' but virtual environments can be named as appropriate."
   ]
  },
  {
   "cell_type": "code",
   "execution_count": null,
   "id": "8f3e9e3b-3b71-4925-b8e0-eab61e0564f1",
   "metadata": {},
   "outputs": [],
   "source": [
    "eyamrog@RogLet-ASUS:~$ python3 -m venv my_env\n",
    "eyamrog@RogLet-ASUS:~$"
   ]
  },
  {
   "cell_type": "markdown",
   "id": "8cea89d1-9446-4603-a69a-1fb089c5f6e3",
   "metadata": {},
   "source": [
    "Prior to using the environment, it must be activated. The command prompt will now be prefixed with the name of the environment."
   ]
  },
  {
   "cell_type": "code",
   "execution_count": null,
   "id": "5f8e5352-c16c-4b2a-bcb6-0d9e1d5a2ded",
   "metadata": {},
   "outputs": [],
   "source": [
    "eyamrog@RogLet-ASUS:~$ cd environments\n",
    "eyamrog@RogLet-ASUS:~/environments$ source my_env/bin/activate\n",
    "(my_env) eyamrog@RogLet-ASUS:~/environments$"
   ]
  },
  {
   "cell_type": "code",
   "execution_count": null,
   "id": "b791d6ac-cd23-4b9d-af8d-35b6df646ff9",
   "metadata": {},
   "outputs": [],
   "source": [
    "After using the environment, it can be deactivated:"
   ]
  },
  {
   "cell_type": "code",
   "execution_count": null,
   "id": "d4993787-0738-4934-9d6f-c9f8aeae0268",
   "metadata": {},
   "outputs": [],
   "source": [
    "(my_env) eyamrog@RogLet-ASUS:~/environments$ deactivate\n",
    "eyamrog@RogLet-ASUS:~/environments$"
   ]
  },
  {
   "cell_type": "markdown",
   "id": "d54a2924-0921-4b69-8b17-7cb2bb60bd4a",
   "metadata": {},
   "source": [
    "### Google Cloud account\n",
    "- Click on [Google Cloud](https://cloud.google.com/?hl=en) and click on 'Go to console' on that page\n",
    "- Follow the instructions to activate your Google Cloud account"
   ]
  },
  {
   "cell_type": "markdown",
   "id": "203cf82e-5955-41ed-8cd4-a0c2890b655c",
   "metadata": {},
   "source": [
    "### Google Cloud Command Line Interface (CLI)\n",
    "- Install 'Google Cloud CLI' following the procedures [here](https://cloud.google.com/sdk/docs/install)\n",
    "- Choose the installation procedure for Linux\n",
    "- The procedure is demonstrated as follows:"
   ]
  },
  {
   "cell_type": "code",
   "execution_count": null,
   "id": "1de6027a-36d0-4461-9f27-e825fd78bfb1",
   "metadata": {},
   "outputs": [],
   "source": [
    "eyamrog@RogLet-ASUS:~$ getconf LONG_BIT\n",
    "64\n",
    "eyamrog@RogLet-ASUS:~$ curl -O https://dl.google.com/dl/cloudsdk/channels/rapid/downloads/google-cloud-cli-448.0.0-linux-x86_64.tar.gz\n",
    "  % Total    % Received % Xferd  Average Speed   Time    Time     Time  Current\n",
    "                                 Dload  Upload   Total   Spent    Left  Speed\n",
    "100  179M  100  179M    0     0  28.6M      0  0:00:06  0:00:06 --:--:-- 31.5M\n",
    "eyamrog@RogLet-ASUS:~$ ls -la\n",
    "total 183752\n",
    "<omitted>\n",
    "drwxr-xr-x 3 eyamrog eyamrog      4096 Aug 17 17:28 environments\n",
    "-rw-r--r-- 1 eyamrog eyamrog 188098741 Oct  3 10:04 google-cloud-cli-448.0.0-linux-x86_64.tar.gz\n",
    "<omitted>\n",
    "eyamrog@RogLet-ASUS:~$ tar -xf google-cloud-cli-448.0.0-linux-x86_64.tar.gz\n",
    "eyamrog@RogLet-ASUS:~$ ls -la\n",
    "total 183756\n",
    "<omitted>\n",
    "drwxr-xr-x 3 eyamrog eyamrog      4096 Aug 17 17:28 environments\n",
    "-rw-r--r-- 1 eyamrog eyamrog 188098741 Oct  3 10:04 google-cloud-cli-448.0.0-linux-x86_64.tar.gz\n",
    "drwxr-xr-x 9 eyamrog eyamrog      4096 Oct  3 10:11 google-cloud-sdk\n",
    "<omitted>\n",
    "eyamrog@RogLet-ASUS:~$ ./google-cloud-sdk/install.sh\n",
    "Welcome to the Google Cloud CLI!\n",
    "\n",
    "To help improve the quality of this product, we collect anonymized usage data\n",
    "and anonymized stacktraces when crashes are encountered; additional information\n",
    "is available at <https://cloud.google.com/sdk/usage-statistics>. This data is\n",
    "handled in accordance with our privacy policy\n",
    "<https://cloud.google.com/terms/cloud-privacy-notice>. You may choose to opt in this\n",
    "collection now (by choosing 'Y' at the below prompt), or at any time in the\n",
    "future by running the following command:\n",
    "\n",
    "    gcloud config set disable_usage_reporting false\n",
    "\n",
    "Do you want to help improve the Google Cloud CLI (y/N)? y\n",
    "<omitted>\n",
    "Enter a path to an rc file to update, or leave blank to use [/home/eyamrog/.bashrc]:\n",
    "Backing up [/home/eyamrog/.bashrc] to [/home/eyamrog/.bashrc.backup].\n",
    "[/home/eyamrog/.bashrc] has been updated.\n",
    "\n",
    "==> Start a new shell for the changes to take effect.\n",
    "\n",
    "\n",
    "For more information on how to get started, please visit:\n",
    "  https://cloud.google.com/sdk/docs/quickstarts\n",
    "\n",
    "\n",
    "eyamrog@RogLet-ASUS:~$ logout\n",
    "eyamrog@RogLet-ASUS:~$\n",
    "eyamrog@RogLet-ASUS:~$ gcloud -h\n",
    "Usage: gcloud [optional flags] <group | command>\n",
    "  group may be           access-approval | access-context-manager |\n",
    "                         active-directory | ai | ai-platform | alloydb |\n",
    "                         anthos | api-gateway | apigee | app | artifacts |\n",
    "                         asset | assured | auth | batch | bigtable | billing |\n",
    "                         bms | builds | certificate-manager | cloud-shell |\n",
    "                         components | composer | compute | config | container |\n",
    "                         data-catalog | database-migration | dataflow |\n",
    "                         dataplex | dataproc | datastore | datastream | deploy |\n",
    "                         deployment-manager | dns | domains | edge-cache |\n",
    "                         edge-cloud | emulators | endpoints |\n",
    "                         essential-contacts | eventarc | filestore | firebase |\n",
    "                         firestore | functions | game | healthcare | iam | iap |\n",
    "                         identity | ids | immersive-stream | infra-manager |\n",
    "                         iot | kms | logging | looker | memcache | metastore |\n",
    "                         ml | ml-engine | monitoring | netapp |\n",
    "                         network-connectivity | network-management |\n",
    "                         network-security | network-services | notebooks |\n",
    "                         org-policies | organizations | policy-intelligence |\n",
    "                         policy-troubleshoot | privateca | projects | publicca |\n",
    "                         pubsub | recaptcha | recommender | redis |\n",
    "                         resource-manager | resource-settings | run | scc |\n",
    "                         scheduler | secrets | service-directory | services |\n",
    "                         source | spanner | sql | storage | tasks | topic |\n",
    "                         transcoder | transfer | vmware | workbench |\n",
    "                         workflows | workspace-add-ons | workstations\n",
    "  command may be         cheat-sheet | docker | feedback | help | info | init |\n",
    "                         survey | version\n",
    "\n",
    "For detailed information on this command and its flags, run:\n",
    "  gcloud --help\n",
    "eyamrog@RogLet-ASUS:~$ ./google-cloud-sdk/bin/gcloud init\n",
    "Welcome! This command will take you through the configuration of gcloud.\n",
    "\n",
    "Your current configuration has been set to: [default]\n",
    "\n",
    "You can skip diagnostics next time by using the following flag:\n",
    "  gcloud init --skip-diagnostics\n",
    "\n",
    "Network diagnostic detects and fixes local network connection issues.\n",
    "Checking network connection...done.\n",
    "Reachability Check passed.\n",
    "Network diagnostic passed (1/1 checks passed).\n",
    "\n",
    "You must log in to continue. Would you like to log in (Y/n)? y\n",
    "\n",
    "Go to the following link in your browser:\n",
    "\n",
    "    https://<omitted>\n",
    "\n",
    "Enter authorization code: <omitted>\n",
    "You are logged in as: [eyamrog@gmail.com].\n",
    "\n",
    "Pick cloud project to use:\n",
    " [1] build-159206\n",
    " [2] <omitted>\n",
    " [3] <omitted>\n",
    " [4] Enter a project ID\n",
    " [5] Create a new project\n",
    "Please enter numeric choice or text value (must exactly match list item):  1\n",
    "\n",
    "Your current project has been set to: [build-159206].\n",
    "\n",
    "Do you want to configure a default Compute Region and Zone? (Y/n)?  y\n",
    "\n",
    "Which Google Compute Engine zone would you like to use as project default?\n",
    "If you do not specify a zone via a command line flag while working with Compute Engine resources, the default\n",
    "is assumed.\n",
    " [1] us-east1-b\n",
    " <omitted>\n",
    " [43] southamerica-east1-a\n",
    " <omitted>\n",
    "Did not print [69] options.\n",
    "Too many options [119]. Enter \"list\" at prompt to print choices fully.\n",
    "Please enter numeric choice or text value (must exactly match list item):  43\n",
    "\n",
    "Your project default Compute Engine zone has been set to [southamerica-east1-a].\n",
    "You can change it by running [gcloud config set compute/zone NAME].\n",
    "\n",
    "Your project default Compute Engine region has been set to [southamerica-east1].\n",
    "You can change it by running [gcloud config set compute/region NAME].\n",
    "\n",
    "Created a default .boto configuration file at [/home/eyamrog/.boto]. See this file and\n",
    "[https://cloud.google.com/storage/docs/gsutil/commands/config] for more\n",
    "information about configuring Google Cloud Storage.\n",
    "Your Google Cloud SDK is configured and ready to use!\n",
    "\n",
    "* Commands that require authentication will use eyamrog@gmail.com by default\n",
    "* Commands will reference project `build-159206` by default\n",
    "* Compute Engine commands will use region `southamerica-east1` by default\n",
    "* Compute Engine commands will use zone `southamerica-east1-a` by default\n",
    "\n",
    "Run `gcloud help config` to learn how to change individual settings\n",
    "\n",
    "This gcloud configuration is called [default]. You can create additional configurations if you work with multiple accounts and/or projects.\n",
    "Run `gcloud topic configurations` to learn more.\n",
    "\n",
    "Some things to try next:\n",
    "\n",
    "* Run `gcloud --help` to see the Cloud Platform services you can interact with. And run `gcloud help COMMAND` to get help on any gcloud command.\n",
    "* Run `gcloud topic --help` to learn about advanced features of the SDK like arg files and output formatting\n",
    "* Run `gcloud cheat-sheet` to see a roster of go-to `gcloud` commands.\n",
    "eyamrog@RogLet-ASUS:~$"
   ]
  },
  {
   "cell_type": "markdown",
   "id": "0ad52b7f-a49a-488a-baba-b7fca1d9537f",
   "metadata": {},
   "source": [
    "### Google Cloud Alpha Commands\n",
    "- Install 'gcloud Alpha Commands' as follows:"
   ]
  },
  {
   "cell_type": "code",
   "execution_count": null,
   "id": "724887c5-0943-4c40-88bc-fae17349924d",
   "metadata": {},
   "outputs": [],
   "source": [
    "eyamrog@RogLet-ASUS:~$ gcloud components list\n",
    "\n",
    "Your current Google Cloud CLI version is: 448.0.0\n",
    "The latest available version is: 448.0.0\n",
    "\n",
    "┌────────────────────────────────────────────────────────────────────────────────────────────────────────────────┐\n",
    "│                                                   Components\n",
    "   │\n",
    "├───────────────┬──────────────────────────────────────────────────────┬──────────────────────────────┬──────────┤\n",
    "│     Status    │                         Name                         │              ID              │   Size   │\n",
    "├───────────────┼──────────────────────────────────────────────────────┼──────────────────────────────┼──────────┤\n",
    "<omitted>\n",
    "│ Not Installed │ gcloud Alpha Commands                                │ alpha                        │  < 1 MiB │\n",
    "<omitted>\n",
    "└───────────────┴──────────────────────────────────────────────────────┴──────────────────────────────┴──────────┘\n",
    "To install or remove components at your current SDK version [448.0.0], run:\n",
    "  $ gcloud components install COMPONENT_ID\n",
    "  $ gcloud components remove COMPONENT_ID\n",
    "\n",
    "To update your SDK installation to the latest version [448.0.0], run:\n",
    "  $ gcloud components update\n",
    "\n",
    "eyamrog@RogLet-ASUS:~$ gcloud components install alpha\n",
    "\n",
    "\n",
    "Your current Google Cloud CLI version is: 448.0.0\n",
    "Installing components from version: 448.0.0\n",
    "\n",
    "┌──────────────────────────────────────────────┐\n",
    "│     These components will be installed.      │\n",
    "├───────────────────────┬────────────┬─────────┤\n",
    "│          Name         │  Version   │   Size  │\n",
    "├───────────────────────┼────────────┼─────────┤\n",
    "│ gcloud Alpha Commands │ 2023.09.22 │ < 1 MiB │\n",
    "└───────────────────────┴────────────┴─────────┘\n",
    "\n",
    "For the latest full release notes, please visit:\n",
    "  https://cloud.google.com/sdk/release_notes\n",
    "\n",
    "Do you want to continue (Y/n)?  y\n",
    "\n",
    "╔════════════════════════════════════════════════════════════╗\n",
    "╠═ Creating update staging area                             ═╣\n",
    "╠════════════════════════════════════════════════════════════╣\n",
    "╠═ Installing: gcloud Alpha Commands                        ═╣\n",
    "╠════════════════════════════════════════════════════════════╣\n",
    "╠═ Creating backup and activating new installation          ═╣\n",
    "╚════════════════════════════════════════════════════════════╝\n",
    "\n",
    "Performing post processing steps...done.\n",
    "\n",
    "Update done!\n",
    "\n",
    "WARNING:   There are other instances of Google Cloud tools on your system PATH.\n",
    "  Please remove the following to avoid confusion or accidental invocation:\n",
    "\n",
    "  /mnt/c/Users/eyamr/AppData/Local/Google/Cloud SDK/google-cloud-sdk/bin/gsutil\n",
    "/mnt/c/Users/eyamr/AppData/Local/Google/Cloud SDK/google-cloud-sdk/bin/gcloud\n",
    "/mnt/c/Users/eyamr/AppData/Local/Google/Cloud SDK/google-cloud-sdk/bin/java_dev_appserver.sh\n",
    "/mnt/c/Users/eyamr/AppData/Local/Google/Cloud SDK/google-cloud-sdk/bin/dev_appserver.py\n",
    "\n",
    "\n",
    "eyamrog@RogLet-ASUS:~$ gcloud components list\n",
    "\n",
    "Your current Google Cloud CLI version is: 448.0.0\n",
    "The latest available version is: 448.0.0\n",
    "\n",
    "┌────────────────────────────────────────────────────────────────────────────────────────────────────────────────┐\n",
    "│                                                   Components\n",
    "   │\n",
    "├───────────────┬──────────────────────────────────────────────────────┬──────────────────────────────┬──────────┤\n",
    "│     Status    │                         Name                         │              ID              │   Size   │\n",
    "├───────────────┼──────────────────────────────────────────────────────┼──────────────────────────────┼──────────┤\n",
    "<omitted>\n",
    "│ Installed     │ gcloud Alpha Commands                                │ alpha                        │  < 1 MiB │\n",
    "└───────────────┴──────────────────────────────────────────────────────┴──────────────────────────────┴──────────┘\n",
    "To install or remove components at your current SDK version [448.0.0], run:\n",
    "  $ gcloud components install COMPONENT_ID\n",
    "  $ gcloud components remove COMPONENT_ID\n",
    "\n",
    "To update your SDK installation to the latest version [448.0.0], run:\n",
    "  $ gcloud components update\n",
    "\n",
    "eyamrog@RogLet-ASUS:~$"
   ]
  },
  {
   "cell_type": "markdown",
   "id": "680df0d7-25ae-46ca-b92a-45dc54d2dab6",
   "metadata": {},
   "source": [
    "### Google Cloud Storage bucket\n",
    "- Create a bucket with a **unique** name as follows:"
   ]
  },
  {
   "cell_type": "code",
   "execution_count": null,
   "id": "7775a843-ec07-4703-9334-099d75f9e6da",
   "metadata": {},
   "outputs": [],
   "source": [
    "eyamrog@RogLet-ASUS:~$ gcloud storage ls\n",
    "gs://laelimages/\n",
    "eyamrog@RogLet-ASUS:~$ gcloud storage buckets create gs://laelimagesg4\n",
    "Creating gs://laelimagesg4/...\n",
    "eyamrog@RogLet-ASUS:~$ gcloud storage ls\n",
    "gs://laelimages/\n",
    "gs://laelimagesg4/\n",
    "eyamrog@RogLet-ASUS:~$"
   ]
  },
  {
   "cell_type": "markdown",
   "id": "2a435ce6-5088-46b7-b66c-c9253ad4ed18",
   "metadata": {},
   "source": [
    "## Activate the environment"
   ]
  },
  {
   "cell_type": "code",
   "execution_count": null,
   "id": "4545fa64-721a-4831-9d10-27fdd14aa6be",
   "metadata": {},
   "outputs": [],
   "source": [
    "eyamrog@RogLet-ASUS:~$ cd environments\n",
    "eyamrog@RogLet-ASUS:~/environments$ ls -la\n",
    "total 12\n",
    "drwxr-xr-x 3 eyamrog eyamrog 4096 Oct  3 11:25 .\n",
    "drwxr-x--- 8 eyamrog eyamrog 4096 Oct  3 11:21 ..\n",
    "drwxr-xr-x 6 eyamrog eyamrog 4096 Oct  3 11:27 my_env\n",
    "eyamrog@RogLet-ASUS:~/environments$ cd my_env\n",
    "eyamrog@RogLet-ASUS:~/environments/my_env$ source bin/activate\n",
    "(my_env) eyamrog@RogLet-ASUS:~/environments/my_env$ ls -la\n",
    "total 28\n",
    "drwxr-xr-x 6 eyamrog eyamrog 4096 Oct  3 11:27 .\n",
    "drwxr-xr-x 3 eyamrog eyamrog 4096 Oct  3 11:25 ..\n",
    "drwxr-xr-x 2 eyamrog eyamrog 4096 Aug 20 10:50 bin\n",
    "drwxr-xr-x 2 eyamrog eyamrog 4096 Aug 17 13:28 include\n",
    "drwxr-xr-x 3 eyamrog eyamrog 4096 Aug 17 13:28 lib\n",
    "lrwxrwxrwx 1 eyamrog eyamrog    3 Aug 17 13:28 lib64 -> lib\n",
    "-rw-r--r-- 1 eyamrog eyamrog   71 Aug 17 13:28 pyvenv.cfg\n",
    "drwxr-xr-x 3 eyamrog eyamrog 4096 Aug 20 10:50 share\n",
    "(my_env) eyamrog@RogLet-ASUS:~/environments/my_env$"
   ]
  },
  {
   "cell_type": "markdown",
   "id": "dffbf6da-4b60-49fa-9ca4-432b0d609621",
   "metadata": {},
   "source": [
    "## Download the group's images into the computer and transfer them to the environment\n",
    "Note: A portion of Group 4's images was used - the following two folders, with 1000 images each\n",
    "- images/images/01\n",
    "- images/images/02"
   ]
  },
  {
   "cell_type": "code",
   "execution_count": null,
   "id": "e80a34e1-923d-47fb-864e-45e8a390d510",
   "metadata": {},
   "outputs": [],
   "source": [
    "(my_env) eyamrog@RogLet-ASUS:~/environments/my_env$ mkdir images\n",
    "(my_env) eyamrog@RogLet-ASUS:~/environments/my_env$ cp /mnt/c/Users/eyamr/Downloads/0*.zip ./images\n",
    "(my_env) eyamrog@RogLet-ASUS:~/environments/my_env$ ls -la ./images\n",
    "total 249780\n",
    "drwxr-xr-x 2 eyamrog eyamrog      4096 Oct  3 11:32 .\n",
    "drwxr-xr-x 7 eyamrog eyamrog      4096 Oct  3 11:31 ..\n",
    "-rwxr-xr-x 1 eyamrog eyamrog 124060989 Oct  3 11:32 01.zip\n",
    "-rwxr-xr-x 1 eyamrog eyamrog 131691563 Oct  3 11:32 02.zip\n",
    "(my_env) eyamrog@RogLet-ASUS:~/environments/my_env$ mkdir ./images/01\n",
    "(my_env) eyamrog@RogLet-ASUS:~/environments/my_env$ unzip ./images/01.zip -d ./images/01\n",
    "Archive:  ./images/01.zip\n",
    "warning:  stripped absolute path spec from /\n",
    "mapname:  conversion of  failed\n",
    " extracting: ./images/01/000001.jpg\n",
    " extracting: ./images/01/000002.jpg\n",
    "<omitted>\n",
    "(my_env) eyamrog@RogLet-ASUS:~/environments/my_env$ mkdir ./images/02\n",
    "(my_env) eyamrog@RogLet-ASUS:~/environments/my_env$ unzip ./images/02.zip -d ./images/02\n",
    "Archive:  ./images/02.zip\n",
    "warning:  stripped absolute path spec from /\n",
    "mapname:  conversion of  failed\n",
    " extracting: ./images/02/001001.jpg\n",
    " extracting: ./images/02/001002.png\n",
    "<omitted>\n",
    "(my_env) eyamrog@RogLet-ASUS:~/environments/my_env$ ls -la ./images\n",
    "total 249904\n",
    "drwxr-xr-x 4 eyamrog eyamrog     32768 Oct  3 11:43 .\n",
    "drwxr-xr-x 7 eyamrog eyamrog     32768 Oct  3 11:34 ..\n",
    "drwxr-xr-x 2 eyamrog eyamrog     32768 Oct  3 11:40 01\n",
    "-rwxr-xr-x 1 eyamrog eyamrog 124060989 Oct  3 11:32 01.zip\n",
    "drwxr-xr-x 2 eyamrog eyamrog     32768 Oct  3 11:43 02\n",
    "-rwxr-xr-x 1 eyamrog eyamrog 131691563 Oct  3 11:32 02.zip\n",
    "(my_env) eyamrog@RogLet-ASUS:~/environments/my_env$ ls -la ./images\n",
    "total 249904\n",
    "drwxr-xr-x 4 eyamrog eyamrog     32768 Oct  3 11:43 .\n",
    "drwxr-xr-x 8 eyamrog eyamrog     32768 Oct  3 13:45 ..\n",
    "drwxr-xr-x 2 eyamrog eyamrog     32768 Oct  3 11:40 01\n",
    "-rwxr-xr-x 1 eyamrog eyamrog 124060989 Oct  3 11:32 01.zip\n",
    "drwxr-xr-x 2 eyamrog eyamrog     32768 Oct  3 11:43 02\n",
    "-rwxr-xr-x 1 eyamrog eyamrog 131691563 Oct  3 11:32 02.zip\n",
    "(my_env) eyamrog@RogLet-ASUS:~/environments/my_env$ rm ./images/*.zip\n",
    "(my_env) eyamrog@RogLet-ASUS:~/environments/my_env$ ls -la ./images\n",
    "total 132\n",
    "drwxr-xr-x 4 eyamrog eyamrog 32768 Oct  3 13:45 .\n",
    "drwxr-xr-x 8 eyamrog eyamrog 32768 Oct  3 13:45 ..\n",
    "drwxr-xr-x 2 eyamrog eyamrog 32768 Oct  3 11:40 01\n",
    "drwxr-xr-x 2 eyamrog eyamrog 32768 Oct  3 11:43 02\n",
    "(my_env) eyamrog@RogLet-ASUS:~/environments/my_env$"
   ]
  },
  {
   "cell_type": "markdown",
   "id": "49014284-7185-4d5c-be33-61c41a99b3bd",
   "metadata": {},
   "source": [
    "## Upload the images into the Google Cloud Storage bucket"
   ]
  },
  {
   "cell_type": "code",
   "execution_count": null,
   "id": "5b549267-b948-475a-9f3a-3eb45f977dfb",
   "metadata": {},
   "outputs": [],
   "source": [
    "(my_env) eyamrog@RogLet-ASUS:~/environments/my_env$ gcloud alpha storage cp -R images gs://laelimagesg4\n",
    "Copying file://images/02.zip to gs://laelimagesg4/images/02.zip\n",
    "Copying file://images/01.zip to gs://laelimagesg4/images/01.zip\n",
    "Copying file://images/02/001453.jpg to gs://laelimagesg4/images/02/001453.jpg\n",
    "⠛Copying file://images/02/001229.png to gs://laelimagesg4/images/02/001229.png\n",
    "<omitted>\n",
    "⠛Copying file://images/01/000984.jpg to gs://laelimagesg4/images/01/000984.jpg\n",
    "Copying file://images/01/000811.jpg to gs://laelimagesg4/images/01/000811.jpg\n",
    "  Completed files 1820/1820 | 487.6MiB/487.6MiB | 256.2kiB/s\n",
    "\n",
    "Average throughput: 406.4kiB/s\n",
    "(my_env) eyamrog@RogLet-ASUS:~/environments/my_env$"
   ]
  },
  {
   "cell_type": "markdown",
   "id": "0cbd51c0-4855-40de-a779-39da4a36ce28",
   "metadata": {},
   "source": [
    "## Create the script 'vision.sh' and making it executable"
   ]
  },
  {
   "cell_type": "code",
   "execution_count": null,
   "id": "04af1020-3cf7-491c-b01e-55d7b86c6d42",
   "metadata": {},
   "outputs": [],
   "source": [
    "(my_env) eyamrog@RogLet-ASUS:~/environments/my_env$ touch vision.sh\n",
    "(my_env) eyamrog@RogLet-ASUS:~/environments/my_env$ vim vision.sh\n",
    "(my_env) eyamrog@RogLet-ASUS:~/environments/my_env$ ls -la\n",
    "total 96\n",
    "drwxr-xr-x 7 eyamrog eyamrog 32768 Oct  3 12:27 .\n",
    "drwxr-xr-x 3 eyamrog eyamrog  4096 Oct  3 11:25 ..\n",
    "drwxr-xr-x 2 eyamrog eyamrog  4096 Aug 20 10:50 bin\n",
    "drwxr-xr-x 4 eyamrog eyamrog 32768 Oct  3 11:43 images\n",
    "drwxr-xr-x 2 eyamrog eyamrog  4096 Aug 17 13:28 include\n",
    "drwxr-xr-x 3 eyamrog eyamrog  4096 Aug 17 13:28 lib\n",
    "lrwxrwxrwx 1 eyamrog eyamrog     3 Aug 17 13:28 lib64 -> lib\n",
    "-rw-r--r-- 1 eyamrog eyamrog    71 Aug 17 13:28 pyvenv.cfg\n",
    "drwxr-xr-x 3 eyamrog eyamrog  4096 Aug 20 10:50 share\n",
    "-rw-r--r-- 1 eyamrog eyamrog   219 Oct  3 12:25 vision.sh\n",
    "(my_env) eyamrog@RogLet-ASUS:~/environments/my_env$ chmod 755 vision.sh\n",
    "(my_env) eyamrog@RogLet-ASUS:~/environments/my_env$ more vision.sh\n",
    "#!/bin/bash\n",
    "clear\n",
    "mkdir -p labels\n",
    "find images -type f | nl -nrz > files\n",
    "while read n file\n",
    "do\n",
    "echo \"--- doing $file ---\"\n",
    "gcloud ml vision detect-labels --max-results=150 gs://laelimagesg4/$file > labels/\"$n\".txt\n",
    "done < files\n",
    "\n",
    "(my_env) eyamrog@RogLet-ASUS:~/environments/my_env$ ls -la\n",
    "total 96\n",
    "drwxr-xr-x 7 eyamrog eyamrog 32768 Oct  3 12:27 .\n",
    "drwxr-xr-x 3 eyamrog eyamrog  4096 Oct  3 11:25 ..\n",
    "drwxr-xr-x 2 eyamrog eyamrog  4096 Aug 20 10:50 bin\n",
    "drwxr-xr-x 4 eyamrog eyamrog 32768 Oct  3 11:43 images\n",
    "drwxr-xr-x 2 eyamrog eyamrog  4096 Aug 17 13:28 include\n",
    "drwxr-xr-x 3 eyamrog eyamrog  4096 Aug 17 13:28 lib\n",
    "lrwxrwxrwx 1 eyamrog eyamrog     3 Aug 17 13:28 lib64 -> lib\n",
    "-rw-r--r-- 1 eyamrog eyamrog    71 Aug 17 13:28 pyvenv.cfg\n",
    "drwxr-xr-x 3 eyamrog eyamrog  4096 Aug 20 10:50 share\n",
    "-rwxr-xr-x 1 eyamrog eyamrog   219 Oct  3 12:25 vision.sh\n",
    "(my_env) eyamrog@RogLet-ASUS:~/environments/my_env$"
   ]
  },
  {
   "cell_type": "markdown",
   "id": "a8db4b99-2741-44fe-9810-f95fedb74ad7",
   "metadata": {},
   "source": [
    "## Executing 'vision.sh'"
   ]
  },
  {
   "cell_type": "code",
   "execution_count": null,
   "id": "54886d15-b147-4d6e-80ce-006bb21ac239",
   "metadata": {},
   "outputs": [],
   "source": [
    "(my_env) eyamrog@RogLet-ASUS:~/environments/my_env$ ./vision.sh\n",
    "--- doing images/02/001453.jpg ---\n",
    "--- doing images/02/001229.png ---\n",
    "--- doing images/02/001077.jpg ---\n",
    "<omitted>"
   ]
  },
  {
   "cell_type": "code",
   "execution_count": null,
   "id": "fb019454-ac48-417d-a7bd-b9dd21cd36f8",
   "metadata": {},
   "outputs": [],
   "source": [
    "eyamrog@RogLet-ASUS:~/environments/my_env$ ls -la ./labels\n",
    "total 1268\n",
    "drwxr-xr-x 2 eyamrog eyamrog 12288 Oct  3 12:51 .\n",
    "drwxr-xr-x 8 eyamrog eyamrog 32768 Oct  3 12:43 ..\n",
    "-rw-r--r-- 1 eyamrog eyamrog  5919 Oct  3 12:44 000001.txt\n",
    "-rw-r--r-- 1 eyamrog eyamrog  2498 Oct  3 12:44 000002.txt\n",
    "-rw-r--r-- 1 eyamrog eyamrog  1435 Oct  3 12:44 000003.txt\n",
    "-rw-r--r-- 1 eyamrog eyamrog  3741 Oct  3 12:44 000004.txt\n",
    "-rw-r--r-- 1 eyamrog eyamrog  1292 Oct  3 12:44 000005.txt\n",
    "<omitted>"
   ]
  },
  {
   "cell_type": "code",
   "execution_count": null,
   "id": "e2920ad2-ae9d-41d5-a133-86a0a6aae46c",
   "metadata": {},
   "outputs": [],
   "source": [
    "eyamrog@RogLet-ASUS:~/environments/my_env$ more ./labels/000001.txt\n",
    "{\n",
    "  \"responses\": [\n",
    "    {\n",
    "      \"labelAnnotations\": [\n",
    "        {\n",
    "          \"description\": \"Aircraft\",\n",
    "          \"mid\": \"/m/0k5j\",\n",
    "          \"score\": 0.9399757,\n",
    "          \"topicality\": 0.9399757\n",
    "        },\n",
    "<omitted>\n",
    "        {\n",
    "          \"description\": \"Travel\",\n",
    "          \"mid\": \"/m/014dsx\",\n",
    "          \"score\": 0.50108856,\n",
    "          \"topicality\": 0.50108856\n",
    "        }\n",
    "      ]\n",
    "    }\n",
    "  ]\n",
    "}\n",
    "eyamrog@RogLet-ASUS:~/environments/my_env$"
   ]
  },
  {
   "cell_type": "markdown",
   "id": "35ad6f61-345c-4115-bee5-40cafefe95ee",
   "metadata": {},
   "source": [
    "### Attention"
   ]
  },
  {
   "cell_type": "markdown",
   "id": "fa4d8b91-64ea-4fa1-8875-77b8f8ec4592",
   "metadata": {},
   "source": [
    "If you get the following error"
   ]
  },
  {
   "cell_type": "code",
   "execution_count": null,
   "id": "0b4c79b4-5d8c-4114-9c0c-4c3a4e29e959",
   "metadata": {},
   "outputs": [],
   "source": [
    "--- doing images/02/001453.jpg ---\n",
    "ERROR: (gcloud.ml.vision.detect-labels) Code: [3] Message: [Invalid GCS path specified: gs://laelimagesg4]\n",
    "--- doing images/02/001229.png ---\n",
    "ERROR: (gcloud.ml.vision.detect-labels) Code: [3] Message: [Invalid GCS path specified: gs://laelimagesg4]"
   ]
  },
  {
   "cell_type": "markdown",
   "id": "198d9609-16a8-4611-a701-9294fddf841d",
   "metadata": {},
   "source": [
    "Make sure the following line"
   ]
  },
  {
   "cell_type": "code",
   "execution_count": null,
   "id": "4247d850-5168-428e-936e-6f7b4b1c9b64",
   "metadata": {},
   "outputs": [],
   "source": [
    "gcloud ml vision detect-labels --max-results=150 gs://laelimagesg4 > labels/\"$n\".txt"
   ]
  },
  {
   "cell_type": "markdown",
   "id": "6153ea02-e488-47b1-b5ea-7bb439758343",
   "metadata": {},
   "source": [
    "is corrected to"
   ]
  },
  {
   "cell_type": "code",
   "execution_count": null,
   "id": "dfb31cd6-ffb2-4f03-986e-9a6b003e9414",
   "metadata": {},
   "outputs": [],
   "source": [
    "gcloud ml vision detect-labels --max-results=150 gs://laelimagesg4/$file > labels/\"$n\".txt"
   ]
  },
  {
   "cell_type": "markdown",
   "id": "737cd333-91d1-4007-a5d9-4177609f9a4a",
   "metadata": {},
   "source": [
    "## Compressing the folder 'labels' and transferring it to the Windows domain\n",
    "- 'labels.zip' can then be delivered to accomplish the task"
   ]
  },
  {
   "cell_type": "code",
   "execution_count": null,
   "id": "1a2527cc-500b-4232-8f45-635dd1bfef06",
   "metadata": {},
   "outputs": [],
   "source": [
    "eyamrog@RogLet-ASUS:~/environments/my_env$ zip -r labels.zip ./labels\n",
    "  adding: labels/ (stored 0%)\n",
    "  adding: labels/001233.txt (deflated 84%)\n",
    "  adding: labels/000355.txt (deflated 83%)\n",
    "<omitted>\n",
    "eyamrog@RogLet-ASUS:~/environments/my_env$ ls -la\n",
    "total 1040\n",
    "<omitted>\n",
    "drwxr-xr-x 2 eyamrog eyamrog  36864 Oct  3 13:16 labels\n",
    "-rw-r--r-- 1 eyamrog eyamrog 874673 Oct  3 13:16 labels.zip\n",
    "<omitted>\n",
    "eyamrog@RogLet-ASUS:~/environments/my_env$ cp labels.zip /mnt/c/Users/eyamr/Downloads\n",
    "eyamrog@RogLet-ASUS:~/environments/my_env$"
   ]
  },
  {
   "cell_type": "markdown",
   "id": "63a61c43-1ef5-49f1-9aca-e23522fc3599",
   "metadata": {},
   "source": [
    "## Deactivating the environment"
   ]
  },
  {
   "cell_type": "code",
   "execution_count": null,
   "id": "d7990387-ad5b-4d77-a436-b87d440a60a4",
   "metadata": {},
   "outputs": [],
   "source": [
    "(my_env) eyamrog@RogLet-ASUS:~/environments$ deactivate\n",
    "eyamrog@RogLet-ASUS:~/environments$ logout"
   ]
  },
  {
   "cell_type": "code",
   "execution_count": null,
   "id": "9d2a6c2c-7e21-4c28-8325-57465fb42261",
   "metadata": {},
   "outputs": [],
   "source": []
  }
 ],
 "metadata": {
  "kernelspec": {
   "display_name": "Python 3 (ipykernel)",
   "language": "python",
   "name": "python3"
  },
  "language_info": {
   "codemirror_mode": {
    "name": "ipython",
    "version": 3
   },
   "file_extension": ".py",
   "mimetype": "text/x-python",
   "name": "python",
   "nbconvert_exporter": "python",
   "pygments_lexer": "ipython3",
   "version": "3.11.5"
  }
 },
 "nbformat": 4,
 "nbformat_minor": 5
}
