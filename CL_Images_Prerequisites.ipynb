{
 "cells": [
  {
   "cell_type": "markdown",
   "id": "810d9f10-ec19-4b09-8f90-e983e460b319",
   "metadata": {},
   "source": [
    "<center>\n",
    "<img src=\"http://corpuslg.org/lael_english/wp-content/uploads/2020/04/lael_50_years_narrow_white.png.400px_300dpi.png\" width=\"300\" alt=\"LAEL 50 years logo\">\n",
    "<h3>APPLIED LINGUISTICS GRADUATE PROGRAMME (LAEL)</h3>\n",
    "</center>\n",
    "<hr>"
   ]
  },
  {
   "cell_type": "markdown",
   "id": "888c2c96-2fc3-4a1a-995b-c388036a2a15",
   "metadata": {},
   "source": [
    "# Images function set - Prerequisites\n",
    "The purpose of this document is to indicate the prerequisites of the **Images function set** for a Windows platform."
   ]
  },
  {
   "cell_type": "markdown",
   "id": "3fb93a1c-e137-47f8-a54d-0f800b56197a",
   "metadata": {},
   "source": [
    "## Installing Anaconda Distribution"
   ]
  },
  {
   "cell_type": "markdown",
   "id": "956350fb-e855-4b7a-b254-409f7f6b44e4",
   "metadata": {
    "tags": []
   },
   "source": [
    "- [Here](https://anaconda.cloud/sign-up) you can sign up to an account\n",
    "- [Here](https://www.anaconda.com/download#downloads) you can download an installer for Windows, Mac or Linux\n",
    "- Follow this [installation procedure](https://docs.anaconda.com/free/anaconda/install/)"
   ]
  },
  {
   "cell_type": "markdown",
   "id": "d999a6ff-4613-4b87-9e7a-d6a9249b65d5",
   "metadata": {},
   "source": [
    "## Start Anaconda Navigator"
   ]
  },
  {
   "cell_type": "markdown",
   "id": "a8df5eb7-eac2-42d6-9976-6eb2364a6153",
   "metadata": {},
   "source": [
    "The Anaconda Distribution provides a graphical user interface called Anaconda Navigator for the conda package and environment manager.\n",
    "- Go to [Getting started with Navigator](https://docs.anaconda.com/free/navigator/getting-started/#), scroll down to 'Starting Navigator' and follow the procedure to start Anaconda Navigator"
   ]
  },
  {
   "cell_type": "markdown",
   "id": "cd4e196f-5364-4c84-9f90-11636ef6e02d",
   "metadata": {},
   "source": [
    "## Setting up a Python virtual environment"
   ]
  },
  {
   "cell_type": "markdown",
   "id": "15dab1c1-c260-4f4d-9080-64986d7752f4",
   "metadata": {},
   "source": [
    "The same concept of virtual environments explained in the previous section is applicable here.\n",
    "- Create an environment following the procedures on [Managing environments](https://docs.anaconda.com/free/navigator/tutorials/manage-environments/). An appropriate name can be chosen for the environment such as 'Env20230922'"
   ]
  },
  {
   "cell_type": "markdown",
   "id": "5f939cc5-9535-41db-8e41-206d1331e555",
   "metadata": {},
   "source": [
    "## Select the Python environment and install the required modules"
   ]
  },
  {
   "cell_type": "markdown",
   "id": "a399f4be-f6cf-4e36-a117-602e4e395355",
   "metadata": {},
   "source": [
    "Follow the procedures on [Managing packages](https://docs.anaconda.com/free/navigator/tutorials/manage-packages/) and [Managing channels](https://docs.anaconda.com/free/navigator/tutorials/manage-channels/) to install the following packages into the environment:\n",
    "- ipython\n",
    "- google-cloud-storage\n",
    "- google-cloud-vision"
   ]
  },
  {
   "cell_type": "markdown",
   "id": "36fd5f0e-7af9-4af2-9b69-9a909c6b96d8",
   "metadata": {},
   "source": [
    "## Installing Ubuntu over Microsoft Windows"
   ]
  },
  {
   "cell_type": "markdown",
   "id": "9c474884-4968-4e38-bc60-5b57eb3c20c6",
   "metadata": {},
   "source": [
    "The Windows Subsystem for Linux (WSL) lets developers install a Linux distribution and use Linux applications, utilities, and Bash command-line tools directly on Windows, unmodified, without the overhead of a traditional virtual machine or dualboot setup.\n",
    "- Follow the procedures on [Install Linux on Windows with WSL](https://learn.microsoft.com/en-us/windows/wsl/install) and on [Set up a WSL development environment](https://learn.microsoft.com/en-us/windows/wsl/setup/environment)"
   ]
  },
  {
   "cell_type": "markdown",
   "id": "39dc9548-e951-4be1-a0ad-a9448c8105d0",
   "metadata": {},
   "source": [
    "## Updating and upgrading Linux"
   ]
  },
  {
   "cell_type": "code",
   "execution_count": null,
   "id": "a853668e-9dbd-4225-90a9-187f5db088ed",
   "metadata": {},
   "outputs": [],
   "source": [
    "eyamrog@RogLet-ASUS:~$ sudo apt update\n",
    "[sudo] password for eyamrog:<omitted>\n",
    "eyamrog@RogLet-ASUS:~$ sudo apt upgrade -y"
   ]
  },
  {
   "cell_type": "markdown",
   "id": "9e1bf4be-393f-4d86-9d42-4dcfcfca2dd6",
   "metadata": {},
   "source": [
    "## Installing the required Linux commands"
   ]
  },
  {
   "cell_type": "markdown",
   "id": "14f7e645-c0d5-4ad4-ab3a-6246044aee79",
   "metadata": {},
   "source": [
    "### 'rg' and 'jq'"
   ]
  },
  {
   "cell_type": "code",
   "execution_count": null,
   "id": "b899893d-a6a1-42f2-991f-b2c11a00dbb4",
   "metadata": {},
   "outputs": [],
   "source": [
    "# Check and install 'rg'\n",
    "eyamrog@RogLet-ASUS:~$ rg\n",
    "Command 'rg' not found, but can be installed with:\n",
    "sudo snap install ripgrep  # version 12.1.0, or\n",
    "sudo apt  install ripgrep  # version 13.0.0-2ubuntu0.1\n",
    "See 'snap info ripgrep' for additional versions.\n",
    "eyamrog@RogLet-ASUS:~$ sudo apt install ripgrep\n",
    "[sudo] password for eyamrog:<omitted>"
   ]
  },
  {
   "cell_type": "code",
   "execution_count": null,
   "id": "cd698d43-9344-470c-a385-72c0df14f439",
   "metadata": {},
   "outputs": [],
   "source": [
    "# Check and install 'jq'\n",
    "eyamrog@RogLet-ASUS:~$ jq\n",
    "Command 'jq' not found, but can be installed with:\n",
    "sudo snap install jq  # version 1.5+dfsg-1, or\n",
    "sudo apt  install jq  # version 1.6-2.1ubuntu3\n",
    "See 'snap info jq' for additional versions.\n",
    "eyamrog@RogLet-ASUS:~$ sudo apt install jq\n",
    "[sudo] password for eyamrog:<omitted>"
   ]
  },
  {
   "cell_type": "markdown",
   "id": "0edffa78-3ada-47ec-8784-a1bf790817b0",
   "metadata": {},
   "source": [
    "### 'curl'"
   ]
  },
  {
   "cell_type": "code",
   "execution_count": null,
   "id": "e58a1230-9569-40b8-acce-b7695d19ae08",
   "metadata": {},
   "outputs": [],
   "source": [
    "eyamrog@RogLet-ASUS:~$ curl\n",
    "Command 'curl' not found, but can be installed with:\n",
    "<omitted>\n",
    "eyamrog@RogLet-ASUS:~$ sudo apt install curl\n",
    "[sudo] password for eyamrog:<omitted>"
   ]
  },
  {
   "cell_type": "markdown",
   "id": "d5b9a440-8b76-423c-a3ac-396345dda41c",
   "metadata": {},
   "source": [
    "## Google Cloud account\n",
    "- Click on [Google Cloud](https://cloud.google.com/?hl=en) and click on 'Go to console' on that page\n",
    "- Follow the instructions to activate your Google Cloud account"
   ]
  },
  {
   "cell_type": "markdown",
   "id": "da8b38c0-2f7b-4d51-bf26-abc738c464d9",
   "metadata": {},
   "source": [
    "## Google Cloud Command Line Interface (CLI)\n",
    "- Install 'Google Cloud CLI' following the procedures [here](https://cloud.google.com/sdk/docs/install) according to your platform, macOS or Windows"
   ]
  },
  {
   "cell_type": "markdown",
   "id": "6e08acf5-3c50-476c-bd45-70179acb9d53",
   "metadata": {},
   "source": [
    "### Google Cloud Alpha Commands\n",
    "- On your Desktop, click on 'Google Cloud SDK Shell' and install 'gcloud Alpha Commands' as follows:"
   ]
  },
  {
   "cell_type": "code",
   "execution_count": null,
   "id": "f809b0c0-f65d-464f-a38b-14605b84ae94",
   "metadata": {},
   "outputs": [],
   "source": [
    "C:\\Users\\eyamr\\AppData\\Local\\Google\\Cloud SDK>gcloud components install alpha\n",
    "Your current Google Cloud CLI version is: 444.0.0\n",
    "Installing components from version: 444.0.0\n",
    "\n",
    "+----------------------------------------------+\n",
    "|     These components will be installed.      |\n",
    "+-----------------------+------------+---------+\n",
    "|          Name         |  Version   |   Size  |\n",
    "+-----------------------+------------+---------+\n",
    "| gcloud Alpha Commands | 2023.08.22 | < 1 MiB |\n",
    "+-----------------------+------------+---------+\n",
    "\n",
    "For the latest full release notes, please visit:\n",
    "  https://cloud.google.com/sdk/release_notes\n",
    "\n",
    "Do you want to continue (Y/n)?  y\n",
    "\n",
    "#============================================================#\n",
    "#= Creating update staging area                             =#\n",
    "#============================================================#\n",
    "#= Installing: gcloud Alpha Commands                        =#\n",
    "#============================================================#\n",
    "#= Creating backup and activating new installation          =#\n",
    "#============================================================#\n",
    "\n",
    "Performing post processing steps...done.\n",
    "\n",
    "Update done!\n",
    "\n",
    "Press any key to continue . . ."
   ]
  },
  {
   "cell_type": "markdown",
   "id": "d7293581-a9e8-4c7a-99db-997bb2e2f11a",
   "metadata": {},
   "source": [
    "### Google Cloud Storage bucket\n",
    "- On your Desktop, click on 'Google Cloud SDK Shell' and create a bucket with a unique name as follows:"
   ]
  },
  {
   "cell_type": "code",
   "execution_count": null,
   "id": "bab2457a-89d4-42bb-a760-ad0ed767d0f8",
   "metadata": {},
   "outputs": [],
   "source": [
    "C:\\Users\\eyamr\\AppData\\Local\\Google\\Cloud SDK>gcloud storage buckets create gs://laelimages\n",
    "Creating gs://laelimages/...\n",
    "\n",
    "C:\\Users\\eyamr\\AppData\\Local\\Google\\Cloud SDK>gcloud storage ls\n",
    "gs://laelimages/\n"
   ]
  },
  {
   "cell_type": "markdown",
   "id": "f63d532f-848e-49fd-9fe9-d81a7e55d279",
   "metadata": {
    "tags": []
   },
   "source": [
    "Attention: Think about a unique name for the bucket. If the name is taken the following error message will be displayed:\n",
    "- 'ERROR: (gcloud.storage.buckets.create) HTTPError 409: The requested bucket name is not available. The bucket namespace is shared by all users of the system. Please select a different name and try again.'"
   ]
  },
  {
   "cell_type": "markdown",
   "id": "6180d184-b28e-4d0a-82aa-8ed1d26888cc",
   "metadata": {},
   "source": [
    "### Google Cloud Vision\n",
    "- Enable the Google Cloud Vision API in your Googlw Cloud Project following the procedures on [Enabling an API in your Google Cloud project](https://cloud.google.com/endpoints/docs/openapi/enable-api)\n",
    "\n",
    "Note: This is an example of error message that occurs when the API is not enabled\n",
    "\n",
    "PermissionDenied: 403 Cloud Vision API has not been used in project (omitted) before or it is disabled. Enable it by visiting https://console.developers.google.com/apis/api/vision.googleapis.com/overview?project=(omitted) then retry. If you enabled this API recently, wait a few minutes for the action to propagate to our systems and retry. [links {\n",
    "  description: \"Google developers console API activation\"\n",
    "  url: \"https://console.developers.google.com/apis/api/vision.googleapis.com/overview?project=(omitted)\""
   ]
  },
  {
   "cell_type": "code",
   "execution_count": null,
   "id": "4286e275-3d15-4183-ac35-08593f6aad7c",
   "metadata": {},
   "outputs": [],
   "source": []
  }
 ],
 "metadata": {
  "kernelspec": {
   "display_name": "Python 3 (ipykernel)",
   "language": "python",
   "name": "python3"
  },
  "language_info": {
   "codemirror_mode": {
    "name": "ipython",
    "version": 3
   },
   "file_extension": ".py",
   "mimetype": "text/x-python",
   "name": "python",
   "nbconvert_exporter": "python",
   "pygments_lexer": "ipython3",
   "version": "3.11.5"
  }
 },
 "nbformat": 4,
 "nbformat_minor": 5
}
