{
 "cells": [
  {
   "cell_type": "markdown",
   "id": "810d9f10-ec19-4b09-8f90-e983e460b319",
   "metadata": {},
   "source": [
    "<center>\n",
    "<img src=\"http://corpuslg.org/lael_english/wp-content/uploads/2020/04/lael_50_years_narrow_white.png.400px_300dpi.png\" width=\"300\" alt=\"LAEL 50 years logo\">\n",
    "<h3>APPLIED LINGUISTICS GRADUATE PROGRAMME (LAEL)</h3>\n",
    "</center>\n",
    "<hr>"
   ]
  },
  {
   "cell_type": "markdown",
   "id": "888c2c96-2fc3-4a1a-995b-c388036a2a15",
   "metadata": {},
   "source": [
    "# Images function set - Prerequisites\n",
    "The purpose of this document is to indicate the prerequisites of the **Images function set** for a Windows platform."
   ]
  },
  {
   "cell_type": "markdown",
   "id": "3fb93a1c-e137-47f8-a54d-0f800b56197a",
   "metadata": {},
   "source": [
    "## Installing Anaconda Distribution"
   ]
  },
  {
   "cell_type": "markdown",
   "id": "956350fb-e855-4b7a-b254-409f7f6b44e4",
   "metadata": {
    "tags": []
   },
   "source": [
    "- [Here](https://anaconda.cloud/sign-up) you can sign up to an account\n",
    "- [Here](https://www.anaconda.com/download#downloads) you can download an installer for Windows, Mac or Linux\n",
    "- Follow this [installation procedure](https://docs.anaconda.com/free/anaconda/install/)"
   ]
  },
  {
   "cell_type": "markdown",
   "id": "d999a6ff-4613-4b87-9e7a-d6a9249b65d5",
   "metadata": {},
   "source": [
    "## Start Anaconda Navigator"
   ]
  },
  {
   "cell_type": "markdown",
   "id": "a8df5eb7-eac2-42d6-9976-6eb2364a6153",
   "metadata": {},
   "source": [
    "The Anaconda Distribution provides a graphical user interface called Anaconda Navigator for the conda package and environment manager.\n",
    "- Go to [Getting started with Navigator](https://docs.anaconda.com/free/navigator/getting-started/#), scroll down to 'Starting Navigator' and follow the procedure to start Anaconda Navigator"
   ]
  },
  {
   "cell_type": "markdown",
   "id": "cd4e196f-5364-4c84-9f90-11636ef6e02d",
   "metadata": {},
   "source": [
    "## Setting up a Python virtual environment"
   ]
  },
  {
   "cell_type": "markdown",
   "id": "15dab1c1-c260-4f4d-9080-64986d7752f4",
   "metadata": {},
   "source": [
    "The same concept of virtual environments explained in the previous section is applicable here.\n",
    "- Create an environment following the procedures on [Managing environments](https://docs.anaconda.com/free/navigator/tutorials/manage-environments/). An appropriate name can be chosen for the environment such as 'Env20230922'"
   ]
  },
  {
   "cell_type": "markdown",
   "id": "5f939cc5-9535-41db-8e41-206d1331e555",
   "metadata": {},
   "source": [
    "## Select the Python environment and install the required modules"
   ]
  },
  {
   "cell_type": "markdown",
   "id": "a399f4be-f6cf-4e36-a117-602e4e395355",
   "metadata": {},
   "source": [
    "Follow the procedures on [Managing packages](https://docs.anaconda.com/free/navigator/tutorials/manage-packages/) and [Managing channels](https://docs.anaconda.com/free/navigator/tutorials/manage-channels/) to install the following packages into the environment:\n",
    "- ipython\n",
    "- google-cloud-storage\n",
    "- google-cloud-vision"
   ]
  },
  {
   "cell_type": "markdown",
   "id": "36fd5f0e-7af9-4af2-9b69-9a909c6b96d8",
   "metadata": {},
   "source": [
    "## Installing Ubuntu over Microsoft Windows"
   ]
  },
  {
   "cell_type": "markdown",
   "id": "9c474884-4968-4e38-bc60-5b57eb3c20c6",
   "metadata": {},
   "source": [
    "The Windows Subsystem for Linux (WSL) lets developers install a Linux distribution and use Linux applications, utilities, and Bash command-line tools directly on Windows, unmodified, without the overhead of a traditional virtual machine or dualboot setup.\n",
    "- Follow the procedures on [Install Linux on Windows with WSL](https://learn.microsoft.com/en-us/windows/wsl/install) and on [Set up a WSL development environment](https://learn.microsoft.com/en-us/windows/wsl/setup/environment)"
   ]
  },
  {
   "cell_type": "markdown",
   "id": "39dc9548-e951-4be1-a0ad-a9448c8105d0",
   "metadata": {},
   "source": [
    "## Updating and upgrading Linux"
   ]
  },
  {
   "cell_type": "code",
   "execution_count": null,
   "id": "a853668e-9dbd-4225-90a9-187f5db088ed",
   "metadata": {},
   "outputs": [],
   "source": [
    "eyamrog@RogLet-ASUS:~$ sudo apt update\n",
    "[sudo] password for eyamrog:<omitted>\n",
    "eyamrog@RogLet-ASUS:~$ sudo apt upgrade -y"
   ]
  },
  {
   "cell_type": "markdown",
   "id": "9e1bf4be-393f-4d86-9d42-4dcfcfca2dd6",
   "metadata": {},
   "source": [
    "## Installing the required Linux commands"
   ]
  },
  {
   "cell_type": "markdown",
   "id": "14f7e645-c0d5-4ad4-ab3a-6246044aee79",
   "metadata": {},
   "source": [
    "### 'rg' and 'jq'"
   ]
  },
  {
   "cell_type": "code",
   "execution_count": null,
   "id": "b899893d-a6a1-42f2-991f-b2c11a00dbb4",
   "metadata": {},
   "outputs": [],
   "source": [
    "# Check and install 'rg'\n",
    "eyamrog@RogLet-ASUS:~$ rg\n",
    "Command 'rg' not found, but can be installed with:\n",
    "sudo snap install ripgrep  # version 12.1.0, or\n",
    "sudo apt  install ripgrep  # version 13.0.0-2ubuntu0.1\n",
    "See 'snap info ripgrep' for additional versions.\n",
    "eyamrog@RogLet-ASUS:~$ sudo apt install ripgrep\n",
    "[sudo] password for eyamrog:<omitted>"
   ]
  },
  {
   "cell_type": "code",
   "execution_count": null,
   "id": "cd698d43-9344-470c-a385-72c0df14f439",
   "metadata": {},
   "outputs": [],
   "source": [
    "# Check and install 'jq'\n",
    "eyamrog@RogLet-ASUS:~$ jq\n",
    "Command 'jq' not found, but can be installed with:\n",
    "sudo snap install jq  # version 1.5+dfsg-1, or\n",
    "sudo apt  install jq  # version 1.6-2.1ubuntu3\n",
    "See 'snap info jq' for additional versions.\n",
    "eyamrog@RogLet-ASUS:~$ sudo apt install jq\n",
    "[sudo] password for eyamrog:<omitted>"
   ]
  },
  {
   "cell_type": "markdown",
   "id": "0edffa78-3ada-47ec-8784-a1bf790817b0",
   "metadata": {},
   "source": [
    "### 'curl'"
   ]
  },
  {
   "cell_type": "code",
   "execution_count": null,
   "id": "e58a1230-9569-40b8-acce-b7695d19ae08",
   "metadata": {},
   "outputs": [],
   "source": [
    "eyamrog@RogLet-ASUS:~$ curl\n",
    "Command 'curl' not found, but can be installed with:\n",
    "<omitted>\n",
    "eyamrog@RogLet-ASUS:~$ sudo apt install curl\n",
    "[sudo] password for eyamrog:<omitted>"
   ]
  },
  {
   "cell_type": "markdown",
   "id": "ab573de8-fa4c-4364-a36c-b3f187675cfc",
   "metadata": {},
   "source": [
    "## Setting up a Python virtual environment over Ubuntu over Windows"
   ]
  },
  {
   "cell_type": "markdown",
   "id": "e99bede6-0cf9-4614-81ad-f362f38f56dd",
   "metadata": {},
   "source": [
    "- Follow the procedures on [How To Install Python 3 and Set Up a Programming Environment on Ubuntu 20.04 [Quickstart]](https://www.digitalocean.com/community/tutorials/how-to-install-python-3-and-set-up-a-programming-environment-on-ubuntu-20-04-quickstart), summarised as follows:"
   ]
  },
  {
   "cell_type": "code",
   "execution_count": null,
   "id": "a734995f-9f68-4678-9ade-ee41d5402175",
   "metadata": {},
   "outputs": [],
   "source": [
    "eyamrog@RogLet-ASUS:~$ sudo apt update\n",
    "eyamrog@RogLet-ASUS:~$ sudo apt -y upgrade\n",
    "eyamrog@RogLet-ASUS:~$ python3 -V\n",
    "eyamrog@RogLet-ASUS:~$ sudo apt install -y python3-pip\n",
    "eyamrog@RogLet-ASUS:~$ sudo apt install build-essential libssl-dev libffi-dev python3-dev\n",
    "eyamrog@RogLet-ASUS:~$ sudo apt install -y python3-venv\n",
    "eyamrog@RogLet-ASUS:~$"
   ]
  },
  {
   "cell_type": "markdown",
   "id": "725fe211-36f6-4d2a-9028-86ebd47f5d56",
   "metadata": {},
   "source": [
    "Python benefits from a rich set of modules that streamlines the development of solutions. Depending on the way the modules are packaged, their installation can create software dependencies among them that can lead to inconsistencies if not carefully managed. Thus, it is highly recommended that distinct development projects are hosted in distinct virtual environments in order to prevent dependencies on one virtual environment from affecting dependencies on another virtual environment. Virtual environments can be created with [venv](https://docs.python.org/3/library/venv.html). The following line describes the creation of the virtual environment 'my_env' but virtual environments can be named as appropriate."
   ]
  },
  {
   "cell_type": "code",
   "execution_count": null,
   "id": "69783caa-b351-4282-a056-9c256944a994",
   "metadata": {},
   "outputs": [],
   "source": [
    "eyamrog@RogLet-ASUS:~$ python3 -m venv my_env\n",
    "eyamrog@RogLet-ASUS:~$"
   ]
  },
  {
   "cell_type": "markdown",
   "id": "2a4e0d53-3bcc-4470-baea-2b5776b18574",
   "metadata": {},
   "source": [
    "Prior to using the environment, it must be activated. The command prompt will now be prefixed with the name of the environment."
   ]
  },
  {
   "cell_type": "code",
   "execution_count": null,
   "id": "66ad5e07-897d-4fdb-a1d6-c6aebbd42e8b",
   "metadata": {},
   "outputs": [],
   "source": [
    "eyamrog@RogLet-ASUS:~$ cd environments\n",
    "eyamrog@RogLet-ASUS:~/environments$ source my_env/bin/activate\n",
    "(my_env) eyamrog@RogLet-ASUS:~/environments$"
   ]
  },
  {
   "cell_type": "markdown",
   "id": "fde6b6d9-6c5b-4af0-b6b2-21725fa6a0f0",
   "metadata": {},
   "source": [
    "After using the environment, it can be deactivated:"
   ]
  },
  {
   "cell_type": "code",
   "execution_count": null,
   "id": "d36e4872-827a-49a2-9350-29ab7ba1d135",
   "metadata": {},
   "outputs": [],
   "source": [
    "(my_env) eyamrog@RogLet-ASUS:~/environments$ deactivate\n",
    "eyamrog@RogLet-ASUS:~/environments$"
   ]
  },
  {
   "cell_type": "markdown",
   "id": "c62659ec-6f35-480d-b264-a5edb831b837",
   "metadata": {},
   "source": [
    "## Installing pandas over Python over Ubuntu over Windows"
   ]
  },
  {
   "cell_type": "code",
   "execution_count": null,
   "id": "45ac9d0d-8150-41be-92f0-ea0fc221141f",
   "metadata": {},
   "outputs": [],
   "source": [
    "eyamrog@RogLet-ASUS:~$ sudo apt update && sudo apt upgrade -y\n",
    "[sudo] password for eyamrog:\n",
    "Hit:1 http://security.ubuntu.com/ubuntu jammy-security InRelease\n",
    "Hit:2 http://archive.ubuntu.com/ubuntu jammy InRelease\n",
    "Hit:3 http://archive.ubuntu.com/ubuntu jammy-updates InRelease\n",
    "Hit:4 http://archive.ubuntu.com/ubuntu jammy-backports InRelease\n",
    "Reading package lists... Done\n",
    "Building dependency tree... Done\n",
    "Reading state information... Done\n",
    "All packages are up to date.\n",
    "Reading package lists... Done\n",
    "Building dependency tree... Done\n",
    "Reading state information... Done\n",
    "Calculating upgrade... Done\n",
    "0 upgraded, 0 newly installed, 0 to remove and 0 not upgraded.\n",
    "eyamrog@RogLet-ASUS:~$ cd environments/my_env\n",
    "eyamrog@RogLet-ASUS:~/environments/my_env$ source ./bin/activate\n",
    "(my_env) eyamrog@RogLet-ASUS:~/environments/my_env$ pip freeze\n",
    "aiohttp==3.8.5\n",
    "aiosignal==1.3.1\n",
    "asttokens==2.2.1\n",
    "async-timeout==4.0.3\n",
    "attrs==23.1.0\n",
    "backcall==0.2.0\n",
    "certifi==2023.7.22\n",
    "charset-normalizer==3.2.0\n",
    "click==8.1.6\n",
    "decorator==5.1.1\n",
    "executing==1.2.0\n",
    "frozenlist==1.4.0\n",
    "idna==3.4\n",
    "ipython==8.14.0\n",
    "jedi==0.19.0\n",
    "joblib==1.3.2\n",
    "matplotlib-inline==0.1.6\n",
    "multidict==6.0.4\n",
    "nltk==3.8.1\n",
    "openai==0.27.8\n",
    "parso==0.8.3\n",
    "pexpect==4.8.0\n",
    "pickleshare==0.7.5\n",
    "prompt-toolkit==3.0.39\n",
    "ptyprocess==0.7.0\n",
    "pure-eval==0.2.2\n",
    "Pygments==2.16.1\n",
    "regex==2023.8.8\n",
    "requests==2.31.0\n",
    "six==1.16.0\n",
    "stack-data==0.6.2\n",
    "textblob==0.17.1\n",
    "tqdm==4.66.1\n",
    "traitlets==5.9.0\n",
    "urllib3==2.0.4\n",
    "wcwidth==0.2.6\n",
    "yarl==1.9.2\n",
    "(my_env) eyamrog@RogLet-ASUS:~/environments/my_env$ pip install pandas\n",
    "Collecting pandas\n",
    "  Downloading pandas-2.1.1-cp310-cp310-manylinux_2_17_x86_64.manylinux2014_x86_64.whl (12.3 MB)\n",
    "     ━━━━━━━━━━━━━━━━━━━━━━━━━━━━━━━━━━━━━━━━ 12.3/12.3 MB 27.3 MB/s eta 0:00:00\n",
    "Collecting python-dateutil>=2.8.2\n",
    "  Downloading python_dateutil-2.8.2-py2.py3-none-any.whl (247 kB)\n",
    "     ━━━━━━━━━━━━━━━━━━━━━━━━━━━━━━━━━━━━━━━━ 247.7/247.7 KB 10.3 MB/s eta 0:00:00\n",
    "Collecting pytz>=2020.1\n",
    "  Downloading pytz-2023.3.post1-py2.py3-none-any.whl (502 kB)\n",
    "     ━━━━━━━━━━━━━━━━━━━━━━━━━━━━━━━━━━━━━━━━ 502.5/502.5 KB 19.0 MB/s eta 0:00:00\n",
    "Collecting tzdata>=2022.1\n",
    "  Downloading tzdata-2023.3-py2.py3-none-any.whl (341 kB)\n",
    "     ━━━━━━━━━━━━━━━━━━━━━━━━━━━━━━━━━━━━━━━━ 341.8/341.8 KB 18.0 MB/s eta 0:00:00\n",
    "Collecting numpy>=1.22.4\n",
    "  Downloading numpy-1.26.0-cp310-cp310-manylinux_2_17_x86_64.manylinux2014_x86_64.whl (18.2 MB)\n",
    "     ━━━━━━━━━━━━━━━━━━━━━━━━━━━━━━━━━━━━━━━━ 18.2/18.2 MB 32.5 MB/s eta 0:00:00\n",
    "Requirement already satisfied: six>=1.5 in ./lib/python3.10/site-packages (from python-dateutil>=2.8.2->pandas) (1.16.0)\n",
    "Installing collected packages: pytz, tzdata, python-dateutil, numpy, pandas\n",
    "Successfully installed numpy-1.26.0 pandas-2.1.1 python-dateutil-2.8.2 pytz-2023.3.post1 tzdata-2023.3\n",
    "(my_env) eyamrog@RogLet-ASUS:~/environments/my_env$ pip freeze | grep pandas\n",
    "pandas==2.1.1\n",
    "(my_env) eyamrog@RogLet-ASUS:~/environments/my_env$ deactivate\n",
    "eyamrog@RogLet-ASUS:~/environments/my_env$ logout"
   ]
  },
  {
   "cell_type": "markdown",
   "id": "d5b9a440-8b76-423c-a3ac-396345dda41c",
   "metadata": {},
   "source": [
    "## Google Cloud account\n",
    "- Click on [Google Cloud](https://cloud.google.com/?hl=en) and click on 'Go to console' on that page\n",
    "- Follow the instructions to activate your Google Cloud account"
   ]
  },
  {
   "cell_type": "markdown",
   "id": "da8b38c0-2f7b-4d51-bf26-abc738c464d9",
   "metadata": {},
   "source": [
    "## Google Cloud Command Line Interface (CLI)\n",
    "- Install 'Google Cloud CLI' following the procedures [here](https://cloud.google.com/sdk/docs/install) according to your platform, macOS or Windows"
   ]
  },
  {
   "cell_type": "markdown",
   "id": "6e08acf5-3c50-476c-bd45-70179acb9d53",
   "metadata": {},
   "source": [
    "### Google Cloud Alpha Commands\n",
    "- On your Desktop, click on 'Google Cloud SDK Shell' and install 'gcloud Alpha Commands' as follows:"
   ]
  },
  {
   "cell_type": "code",
   "execution_count": null,
   "id": "f809b0c0-f65d-464f-a38b-14605b84ae94",
   "metadata": {},
   "outputs": [],
   "source": [
    "C:\\Users\\eyamr\\AppData\\Local\\Google\\Cloud SDK>gcloud components install alpha\n",
    "Your current Google Cloud CLI version is: 444.0.0\n",
    "Installing components from version: 444.0.0\n",
    "\n",
    "+----------------------------------------------+\n",
    "|     These components will be installed.      |\n",
    "+-----------------------+------------+---------+\n",
    "|          Name         |  Version   |   Size  |\n",
    "+-----------------------+------------+---------+\n",
    "| gcloud Alpha Commands | 2023.08.22 | < 1 MiB |\n",
    "+-----------------------+------------+---------+\n",
    "\n",
    "For the latest full release notes, please visit:\n",
    "  https://cloud.google.com/sdk/release_notes\n",
    "\n",
    "Do you want to continue (Y/n)?  y\n",
    "\n",
    "#============================================================#\n",
    "#= Creating update staging area                             =#\n",
    "#============================================================#\n",
    "#= Installing: gcloud Alpha Commands                        =#\n",
    "#============================================================#\n",
    "#= Creating backup and activating new installation          =#\n",
    "#============================================================#\n",
    "\n",
    "Performing post processing steps...done.\n",
    "\n",
    "Update done!\n",
    "\n",
    "Press any key to continue . . ."
   ]
  },
  {
   "cell_type": "markdown",
   "id": "d7293581-a9e8-4c7a-99db-997bb2e2f11a",
   "metadata": {},
   "source": [
    "### Google Cloud Storage bucket\n",
    "- On your Desktop, click on 'Google Cloud SDK Shell' and create a bucket with a unique name as follows:"
   ]
  },
  {
   "cell_type": "code",
   "execution_count": null,
   "id": "bab2457a-89d4-42bb-a760-ad0ed767d0f8",
   "metadata": {},
   "outputs": [],
   "source": [
    "C:\\Users\\eyamr\\AppData\\Local\\Google\\Cloud SDK>gcloud storage buckets create gs://laelimages\n",
    "Creating gs://laelimages/...\n",
    "\n",
    "C:\\Users\\eyamr\\AppData\\Local\\Google\\Cloud SDK>gcloud storage ls\n",
    "gs://laelimages/\n"
   ]
  },
  {
   "cell_type": "markdown",
   "id": "f63d532f-848e-49fd-9fe9-d81a7e55d279",
   "metadata": {
    "tags": []
   },
   "source": [
    "Attention: Think about a unique name for the bucket. If the name is taken the following error message will be displayed:\n",
    "- 'ERROR: (gcloud.storage.buckets.create) HTTPError 409: The requested bucket name is not available. The bucket namespace is shared by all users of the system. Please select a different name and try again.'"
   ]
  },
  {
   "cell_type": "markdown",
   "id": "6180d184-b28e-4d0a-82aa-8ed1d26888cc",
   "metadata": {},
   "source": [
    "### Google Cloud Vision\n",
    "- Enable the Google Cloud Vision API in your Googlw Cloud Project following the procedures on [Enabling an API in your Google Cloud project](https://cloud.google.com/endpoints/docs/openapi/enable-api)\n",
    "\n",
    "Note: This is an example of error message that occurs when the API is not enabled\n",
    "\n",
    "PermissionDenied: 403 Cloud Vision API has not been used in project (omitted) before or it is disabled. Enable it by visiting https://console.developers.google.com/apis/api/vision.googleapis.com/overview?project=(omitted) then retry. If you enabled this API recently, wait a few minutes for the action to propagate to our systems and retry. [links {\n",
    "  description: \"Google developers console API activation\"\n",
    "  url: \"https://console.developers.google.com/apis/api/vision.googleapis.com/overview?project=(omitted)\""
   ]
  },
  {
   "cell_type": "markdown",
   "id": "24df1cdb-1f32-4502-a083-698a5db8b922",
   "metadata": {},
   "source": [
    "## Checking the encoding of the corpus\n",
    "- Convert your corpus's encoding to UTF-8 or US-ASCII if it is encoded with another encoding, especially UTF-16LE, which is not supported by the 'grep' command\n",
    "\n",
    "Note: Attention! WSL encodes files with UTF-16LE. You had better transfer the corpus to Ubuntu's domain for handling instead of using the 'wsl' command line"
   ]
  },
  {
   "cell_type": "code",
   "execution_count": null,
   "id": "6025b2e0-df8f-4141-a728-3d22dbac2dc5",
   "metadata": {},
   "outputs": [],
   "source": [
    "PS C:\\Users\\eyamr> cd Downloads\n",
    "PS C:\\Users\\eyamr\\Downloads> dir\n",
    "\n",
    "\n",
    "    Directory: C:\\Users\\eyamr\\Downloads\n",
    "\n",
    "\n",
    "Mode                 LastWriteTime         Length Name\n",
    "----                 -------------         ------ ----\n",
    "-a----        08/10/2023     05:30       12222044 scraped_2019-01.txt\n",
    "\n",
    "\n",
    "PS C:\\Users\\eyamr\\Downloads> wsl file -bi scraped_2019-01.txt\n",
    "application/json; charset=us-ascii\n",
    "PS C:\\Users\\eyamr\\Downloads> wsl head -n 260 scraped_2019-01.txt > scraped.txt\n",
    "PS C:\\Users\\eyamr\\Downloads> wsl file -bi scraped.txt\n",
    "text/html; charset=utf-16le\n",
    "PS C:\\Users\\eyamr\\Downloads> wsl iconv -f UTF-16LE -t UTF-8 scraped.txt -o scraped_utf-8.txt\n",
    "PS C:\\Users\\eyamr\\Downloads> wsl file -bi scraped_utf-8.txt\n",
    "text/html; charset=utf-8\n",
    "PS C:\\Users\\eyamr\\Downloads> dir\n",
    "\n",
    "\n",
    "    Directory: C:\\Users\\eyamr\\Downloads\n",
    "\n",
    "\n",
    "Mode                 LastWriteTime         Length Name\n",
    "----                 -------------         ------ ----\n",
    "-a----        08/10/2023     05:58        1802448 scraped.txt\n",
    "-a----        08/10/2023     05:30       12222044 scraped_2019-01.txt\n",
    "-a----        08/10/2023     06:01         901226 scraped_utf-8.txt\n",
    "\n",
    "\n",
    "PS C:\\Users\\eyamr\\Downloads>"
   ]
  },
  {
   "cell_type": "code",
   "execution_count": null,
   "id": "2cca72fa-10be-4dc7-9157-3b3e5ba2769e",
   "metadata": {},
   "outputs": [],
   "source": [
    "eyamrog@RogLet-ASUS:~/environments/my_env$ cp /mnt/c/Users/eyamr/Downloads/scraped_2019-01.txt .\n",
    "eyamrog@RogLet-ASUS:~/environments/my_env$ ls -la\n",
    "total 11996\n",
    "drwxr-xr-x 6 eyamrog eyamrog    32768 Oct  8 05:45 .\n",
    "drwxr-xr-x 3 eyamrog eyamrog     4096 Oct  3 11:25 ..\n",
    "drwxr-xr-x 2 eyamrog eyamrog     4096 Oct  7 09:23 bin\n",
    "drwxr-xr-x 2 eyamrog eyamrog     4096 Aug 17 13:28 include\n",
    "drwxr-xr-x 3 eyamrog eyamrog     4096 Aug 17 13:28 lib\n",
    "lrwxrwxrwx 1 eyamrog eyamrog        3 Aug 17 13:28 lib64 -> lib\n",
    "-rw-r--r-- 1 eyamrog eyamrog       71 Aug 17 13:28 pyvenv.cfg\n",
    "-rwxr-xr-x 1 eyamrog eyamrog 12222044 Oct  8 05:45 scraped_2019-01.txt\n",
    "drwxr-xr-x 3 eyamrog eyamrog     4096 Aug 20 10:50 share\n",
    "eyamrog@RogLet-ASUS:~/environments/my_env$ file -bi scraped_2019-01.txt\n",
    "application/json; charset=us-ascii\n",
    "eyamrog@RogLet-ASUS:~/environments/my_env$ head -n 260 scraped_2019-01.txt > scraped.txt\n",
    "eyamrog@RogLet-ASUS:~/environments/my_env$ file -bi scraped.txt\n",
    "application/json; charset=us-ascii\n",
    "eyamrog@RogLet-ASUS:~/environments/my_env$ ls -la\n",
    "total 12876\n",
    "drwxr-xr-x 6 eyamrog eyamrog    32768 Oct  8 05:46 .\n",
    "drwxr-xr-x 3 eyamrog eyamrog     4096 Oct  3 11:25 ..\n",
    "drwxr-xr-x 2 eyamrog eyamrog     4096 Oct  7 09:23 bin\n",
    "drwxr-xr-x 2 eyamrog eyamrog     4096 Aug 17 13:28 include\n",
    "drwxr-xr-x 3 eyamrog eyamrog     4096 Aug 17 13:28 lib\n",
    "lrwxrwxrwx 1 eyamrog eyamrog        3 Aug 17 13:28 lib64 -> lib\n",
    "-rw-r--r-- 1 eyamrog eyamrog       71 Aug 17 13:28 pyvenv.cfg\n",
    "-rw-r--r-- 1 eyamrog eyamrog   900963 Oct  8 05:46 scraped.txt\n",
    "-rwxr-xr-x 1 eyamrog eyamrog 12222044 Oct  8 05:45 scraped_2019-01.txt\n",
    "drwxr-xr-x 3 eyamrog eyamrog     4096 Aug 20 10:50 share\n",
    "eyamrog@RogLet-ASUS:~/environments/my_env$ cp scraped.txt /mnt/c/Users/eyamr/Downloads\n",
    "eyamrog@RogLet-ASUS:~/environments/my_env$"
   ]
  },
  {
   "cell_type": "code",
   "execution_count": null,
   "id": "4e1aee85-6469-4ebf-8171-50f6677fb464",
   "metadata": {},
   "outputs": [],
   "source": []
  }
 ],
 "metadata": {
  "kernelspec": {
   "display_name": "Python 3 (ipykernel)",
   "language": "python",
   "name": "python3"
  },
  "language_info": {
   "codemirror_mode": {
    "name": "ipython",
    "version": 3
   },
   "file_extension": ".py",
   "mimetype": "text/x-python",
   "name": "python",
   "nbconvert_exporter": "python",
   "pygments_lexer": "ipython3",
   "version": "3.11.5"
  }
 },
 "nbformat": 4,
 "nbformat_minor": 5
}
