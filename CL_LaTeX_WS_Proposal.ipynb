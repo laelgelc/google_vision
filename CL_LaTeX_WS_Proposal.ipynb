{
 "cells": [
  {
   "cell_type": "markdown",
   "id": "810d9f10-ec19-4b09-8f90-e983e460b319",
   "metadata": {},
   "source": [
    "<center>\n",
    "<img src=\"http://corpuslg.org/lael_english/wp-content/uploads/2020/04/lael_50_years_narrow_white.png.400px_300dpi.png\" width=\"300\" alt=\"LAEL 50 years logo\">\n",
    "<h3>APPLIED LINGUISTICS GRADUATE PROGRAMME (LAEL)</h3>\n",
    "</center>\n",
    "<hr>"
   ]
  },
  {
   "cell_type": "markdown",
   "id": "888c2c96-2fc3-4a1a-995b-c388036a2a15",
   "metadata": {},
   "source": [
    "# LaTeX Workshop - Proposal"
   ]
  },
  {
   "cell_type": "markdown",
   "id": "7a9c2af7-9fc1-4f51-a4f5-2ed915b93039",
   "metadata": {},
   "source": [
    "## Objectives"
   ]
  },
  {
   "cell_type": "markdown",
   "id": "b6704f37-e4ea-4166-8344-1e808191e612",
   "metadata": {},
   "source": [
    "- Provide basic competence on LaTeX to the LAEL GELC group members\n",
    "- Share tips, useful resources and document templates"
   ]
  },
  {
   "cell_type": "markdown",
   "id": "d9aad2a2-cf51-46c6-9b22-8049c1745d51",
   "metadata": {},
   "source": [
    "## Delivery set-up"
   ]
  },
  {
   "cell_type": "markdown",
   "id": "b3260f82-516d-4616-a200-09c1ce542f57",
   "metadata": {},
   "source": [
    "- One 2-hour session in Portuguese\n",
    "- Remote online setting via Microsoft Teams\n",
    "- Two dates for the participants to choose from\n",
    "- The participants will be provided with document templates and reference materials"
   ]
  },
  {
   "cell_type": "markdown",
   "id": "696da95f-c96c-4ebb-b1a6-0fd3f33a513a",
   "metadata": {},
   "source": [
    "## Prerequisites"
   ]
  },
  {
   "cell_type": "markdown",
   "id": "95565c94-b96d-424c-94d0-5ac1b70a4102",
   "metadata": {
    "tags": []
   },
   "source": [
    "- Register for [Overleaf](https://www.overleaf.com/register)\n",
    "- Register for [Zotero](https://www.zotero.org/user/register)\n",
    "- Microsoft 365 account provided by PUC-SP\n",
    "- Install the [Microsoft Teams App](https://www.microsoft.com/pt-br/microsoft-teams/download-app)\n",
    "- Personal computer equipped with broadband Internet access"
   ]
  },
  {
   "cell_type": "markdown",
   "id": "2972c94f-4cee-4a85-b99d-19b3b6b66a7c",
   "metadata": {},
   "source": [
    "## Content"
   ]
  },
  {
   "cell_type": "markdown",
   "id": "c8e739cd-d8ce-4c8e-a067-c9946f9234f4",
   "metadata": {},
   "source": [
    "- Pre-course task\n",
    "- Zotero overview\n",
    "- Overleaf overview\n",
    "- LaTeX document structure\n",
    "- Article format\n",
    "- Presentation format\n",
    "- Bibliography\n",
    "- APA and ABNT styles overview\n",
    "- Multilingual support (babel)\n",
    "- Citations\n",
    "- Quotes\n",
    "- Footnotes\n",
    "- Tables\n",
    "- Figures\n",
    "- Diagrams\n",
    "- Emojis (LuaLaTeX)\n",
    "- Further study resources\n",
    "  - Useful resources\n",
    "  - [Templates bank](https://1drv.ms/f/s!AkJfqVKkVEiigQPu_CZgbPgBuWCI?e=htzpwg)"
   ]
  },
  {
   "cell_type": "markdown",
   "id": "2014f126-e1af-4454-9637-a4a45109d869",
   "metadata": {},
   "source": [
    "## Workshop preparation"
   ]
  },
  {
   "cell_type": "markdown",
   "id": "903f3548-a07b-4978-b845-3838395407fe",
   "metadata": {},
   "source": [
    "- The lead time of workshop preparation is estimated in 1 week"
   ]
  }
 ],
 "metadata": {
  "kernelspec": {
   "display_name": "Python 3 (ipykernel)",
   "language": "python",
   "name": "python3"
  },
  "language_info": {
   "codemirror_mode": {
    "name": "ipython",
    "version": 3
   },
   "file_extension": ".py",
   "mimetype": "text/x-python",
   "name": "python",
   "nbconvert_exporter": "python",
   "pygments_lexer": "ipython3",
   "version": "3.11.5"
  }
 },
 "nbformat": 4,
 "nbformat_minor": 5
}
